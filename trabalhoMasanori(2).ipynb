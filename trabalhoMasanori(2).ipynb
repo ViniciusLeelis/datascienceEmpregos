{
 "cells": [
  {
   "cell_type": "markdown",
   "metadata": {},
   "source": [
    "# Estudo do Emprego na Regiao de Governo de São José dos Campos, de 2013 a 2017\n",
    "# Informações segundo SEADE - Portal de Estatística do Estado de São Paulo,\n",
    "# IMP - Informação dos Municípios Paulistas\n",
    "# http://www.imp.seade.gov.br/frontend/#/tabelas"
   ]
  },
  {
   "cell_type": "code",
   "execution_count": 1,
   "metadata": {},
   "outputs": [
    {
     "data": {
      "text/html": [
       "<script type=\"text/javascript\">window.PlotlyConfig = {MathJaxConfig: 'local'};</script><script type=\"text/javascript\">if (window.MathJax) {MathJax.Hub.Config({SVG: {font: \"STIX-Web\"}});}</script><script>requirejs.config({paths: { 'plotly': ['https://cdn.plot.ly/plotly-latest.min']},});if(!window._Plotly) {require(['plotly'],function(plotly) {window._Plotly=plotly;});}</script>"
      ],
      "text/vnd.plotly.v1+html": [
       "<script type=\"text/javascript\">window.PlotlyConfig = {MathJaxConfig: 'local'};</script><script type=\"text/javascript\">if (window.MathJax) {MathJax.Hub.Config({SVG: {font: \"STIX-Web\"}});}</script><script>requirejs.config({paths: { 'plotly': ['https://cdn.plot.ly/plotly-latest.min']},});if(!window._Plotly) {require(['plotly'],function(plotly) {window._Plotly=plotly;});}</script>"
      ]
     },
     "metadata": {},
     "output_type": "display_data"
    },
    {
     "data": {
      "text/plain": [
       "\"\\n#JSON das localidades:\\n{\\n'localidades':\\n[{\\n'codigo':,\\n'nome':,\\n'nivel':,\\n'codigo_pai':,\\n'nome_pai:'\\n}]\\n}\\n\""
      ]
     },
     "execution_count": 1,
     "metadata": {},
     "output_type": "execute_result"
    }
   ],
   "source": [
    "import json \n",
    "import pandas as pd \n",
    "import numpy as np\n",
    "import plotly\n",
    "import plotly.offline as py\n",
    "import plotly.graph_objs as go\n",
    "import warnings\n",
    "warnings.filterwarnings('ignore')\n",
    "\n",
    "\n",
    "py.init_notebook_mode(connected=True)\n",
    "\n",
    "\n",
    "#  Usado uma API para gerar os mapas pelo Plotly \n",
    "plotly.tools.set_credentials_file(username='viniciuslelis', api_key='4fyBZGTFoNA2dgAzXsbo')\n",
    "\n",
    "from pandas.io.json import json_normalize\n",
    "#package for flattening json in pandas df\n",
    "\n",
    "# da página <url = 'http://api-imp.seade.gov.br/v1/localidade'>\n",
    "# salvei um arquivo em JSON <localidade.json>\n",
    "# existe também um método para ler a URL direta/te, usei em outra tentativa!\n",
    "\n",
    "with open('localidade.json') as f:\n",
    "    d = json.load(f)\n",
    "\n",
    "k=(json_normalize(d['localidades']))\n",
    "\n",
    "'''\n",
    "#JSON das localidades:\n",
    "{\n",
    "'localidades':\n",
    "[{\n",
    "'codigo':,\n",
    "'nome':,\n",
    "'nivel':,\n",
    "'codigo_pai':,\n",
    "'nome_pai:'\n",
    "}]\n",
    "}\n",
    "'''\n"
   ]
  },
  {
   "cell_type": "markdown",
   "metadata": {},
   "source": [
    "# Região Administrativa e Governo de São José dos Campos "
   ]
  },
  {
   "cell_type": "code",
   "execution_count": 2,
   "metadata": {
    "scrolled": true
   },
   "outputs": [
    {
     "name": "stdout",
     "output_type": "stream",
     "text": [
      "SJC c/ Adm 'contei': 5\n",
      "SJC c/ Governo 'contei': 8 \n",
      "\n",
      "\n",
      "['codigo', 'codigo_pai', 'nivel', 'nome', 'nome_pai'] \n",
      "\n",
      "\n",
      "codigo                                             499\n",
      "codigo_pai                                         738\n",
      "nivel                                       Municípios\n",
      "nome                               São José dos Campos\n",
      "nome_pai      Região de Governo de São José dos Campos\n",
      "Name: 658, dtype: object\n",
      "codigo                                              85\n",
      "codigo_pai                                         738\n",
      "nivel                                       Municípios\n",
      "nome                                          Caçapava\n",
      "nome_pai      Região de Governo de São José dos Campos\n",
      "Name: 195, dtype: object\n",
      "codigo                                             202\n",
      "codigo_pai                                         738\n",
      "nivel                                       Municípios\n",
      "nome                                           Igaratá\n",
      "nome_pai      Região de Governo de São José dos Campos\n",
      "Name: 331, dtype: object\n",
      "codigo                                             244\n",
      "codigo_pai                                         738\n",
      "nivel                                       Municípios\n",
      "nome                                           Jacareí\n",
      "nome_pai      Região de Governo de São José dos Campos\n",
      "Name: 378, dtype: object\n",
      "codigo                                             249\n",
      "codigo_pai                                         738\n",
      "nivel                                       Municípios\n",
      "nome                                          Jambeiro\n",
      "nome_pai      Região de Governo de São José dos Campos\n",
      "Name: 383, dtype: object\n",
      "codigo                                             317\n",
      "codigo_pai                                         738\n",
      "nivel                                       Municípios\n",
      "nome                                   Monteiro Lobato\n",
      "nome_pai      Região de Governo de São José dos Campos\n",
      "Name: 456, dtype: object\n",
      "codigo                                             356\n",
      "codigo_pai                                         738\n",
      "nivel                                       Municípios\n",
      "nome                                         Paraibuna\n",
      "nome_pai      Região de Governo de São José dos Campos\n",
      "Name: 501, dtype: object\n",
      "codigo                                             460\n",
      "codigo_pai                                         738\n",
      "nivel                                       Municípios\n",
      "nome                                      Santa Branca\n",
      "nome_pai      Região de Governo de São José dos Campos\n",
      "Name: 615, dtype: object\n",
      "codigo                                             499\n",
      "codigo_pai                                         738\n",
      "nivel                                       Municípios\n",
      "nome                               São José dos Campos\n",
      "nome_pai      Região de Governo de São José dos Campos\n",
      "Name: 658, dtype: object\n"
     ]
    }
   ],
   "source": [
    "cnt=0\n",
    "cnt2=0\n",
    "\n",
    "for caso in k['nome_pai']:\n",
    "    if caso == 'Região Administrativa de São José dos Campos':\n",
    "        cnt = cnt + 1\n",
    "print(\"SJC c/ Adm\", \"'contei':\", cnt)\n",
    "\n",
    "for caso in k['nome_pai']:\n",
    "    if caso == 'Região de Governo de São José dos Campos':\n",
    "        cnt2 = cnt2 + 1\n",
    "print(\"SJC c/ Governo\", \"'contei':\", cnt2, \"\\n\\n\")\n",
    "\n",
    "#https://realpython.com/python-dicts/\n",
    "print(list(k.keys()),\"\\n\\n\")\n",
    "\n",
    "for caso in k['nome_pai']:\n",
    "    if caso == 'Região de Governo de São José dos Campos':\n",
    "        cnt2 = cnt2 + 1\n",
    "\n",
    "for index, row in k.iterrows():\n",
    "    if row['nome'] == 'São José dos Campos':\n",
    "        print(row)\n",
    "\n",
    "#https://www.tutorialspoint.com/python_pandas/python_pandas_iteration.htm\n",
    "\n",
    "for index, row in k.iterrows():\n",
    "    if row['codigo_pai'] == '738':\n",
    "        print(row)\n"
   ]
  },
  {
   "cell_type": "markdown",
   "metadata": {},
   "source": [
    "# Interpretando a divisão de municípios abrangidos \n"
   ]
  },
  {
   "cell_type": "code",
   "execution_count": 3,
   "metadata": {},
   "outputs": [
    {
     "data": {
      "application/vnd.plotly.v1+json": {
       "config": {
        "linkText": "Export to plot.ly",
        "plotlyServerURL": "https://plot.ly",
        "showLink": true
       },
       "data": [
        {
         "type": "bar",
         "uid": "8c343876-c63f-4069-8438-22a249629131",
         "x": [
          "Região Administrativa de São José dos Campos",
          "Região de Governo de São José dos Campos"
         ],
         "y": [
          5,
          16
         ]
        }
       ],
       "layout": {}
      },
      "text/html": [
       "<div id=\"c8f85a05-c644-46a1-8170-5ee33fda9e2d\" style=\"height: 525px; width: 100%;\" class=\"plotly-graph-div\"></div><script type=\"text/javascript\">require([\"plotly\"], function(Plotly) { window.PLOTLYENV=window.PLOTLYENV || {};window.PLOTLYENV.BASE_URL=\"https://plot.ly\";Plotly.newPlot(\"c8f85a05-c644-46a1-8170-5ee33fda9e2d\", [{\"x\": [\"Regi\\u00e3o Administrativa de S\\u00e3o Jos\\u00e9 dos Campos\", \"Regi\\u00e3o de Governo de S\\u00e3o Jos\\u00e9 dos Campos\"], \"y\": [5, 16], \"type\": \"bar\", \"uid\": \"fac48aed-4f7c-4f12-8a5a-9f325da7a831\"}], {}, {\"showLink\": true, \"linkText\": \"Export to plot.ly\", \"plotlyServerURL\": \"https://plot.ly\"})});</script><script type=\"text/javascript\">window.addEventListener(\"resize\", function(){window._Plotly.Plots.resize(document.getElementById(\"c8f85a05-c644-46a1-8170-5ee33fda9e2d\"));});</script>"
      ],
      "text/vnd.plotly.v1+html": [
       "<div id=\"c8f85a05-c644-46a1-8170-5ee33fda9e2d\" style=\"height: 525px; width: 100%;\" class=\"plotly-graph-div\"></div><script type=\"text/javascript\">require([\"plotly\"], function(Plotly) { window.PLOTLYENV=window.PLOTLYENV || {};window.PLOTLYENV.BASE_URL=\"https://plot.ly\";Plotly.newPlot(\"c8f85a05-c644-46a1-8170-5ee33fda9e2d\", [{\"x\": [\"Regi\\u00e3o Administrativa de S\\u00e3o Jos\\u00e9 dos Campos\", \"Regi\\u00e3o de Governo de S\\u00e3o Jos\\u00e9 dos Campos\"], \"y\": [5, 16], \"type\": \"bar\", \"uid\": \"fac48aed-4f7c-4f12-8a5a-9f325da7a831\"}], {}, {\"showLink\": true, \"linkText\": \"Export to plot.ly\", \"plotlyServerURL\": \"https://plot.ly\"})});</script><script type=\"text/javascript\">window.addEventListener(\"resize\", function(){window._Plotly.Plots.resize(document.getElementById(\"c8f85a05-c644-46a1-8170-5ee33fda9e2d\"));});</script>"
      ]
     },
     "metadata": {},
     "output_type": "display_data"
    }
   ],
   "source": [
    "trace = go.Bar(x = ['Região Administrativa de São José dos Campos', 'Região de Governo de São José dos Campos'],\n",
    "               y = [cnt, cnt2])\n",
    "data = [trace]\n",
    "py.iplot(data)"
   ]
  },
  {
   "cell_type": "code",
   "execution_count": 4,
   "metadata": {},
   "outputs": [
    {
     "data": {
      "image/jpeg": "[encoded data removed]",
      "text/plain": [
       "<IPython.core.display.Image object>"
      ]
     },
     "execution_count": 4,
     "metadata": {},
     "output_type": "execute_result"
    }
   ],
   "source": [
    "from IPython.display import Image\n",
    "Image(\"http://geoeduc.com/indice.jpg\")\n"
   ]
  },
  {
   "cell_type": "markdown",
   "metadata": {},
   "source": [
    "# As informaçoes de 2013 a 2017 (EM 4 ANOS) dos empregos"
   ]
  },
  {
   "cell_type": "code",
   "execution_count": 5,
   "metadata": {},
   "outputs": [],
   "source": [
    "df = pd.read_csv('C:/imp_2018-11-25_11-16.csv', sep=';', encoding='latin1')"
   ]
  },
  {
   "cell_type": "code",
   "execution_count": 6,
   "metadata": {},
   "outputs": [],
   "source": [
    "ultimas = df.columns[-6:]"
   ]
  },
  {
   "cell_type": "code",
   "execution_count": 7,
   "metadata": {},
   "outputs": [],
   "source": [
    "del df[ultimas[0]]; del df[ultimas[1]]; del df[ultimas[2]]; del df[ultimas[3]]; del df[ultimas[4]]; del df[ultimas[5]]; "
   ]
  },
  {
   "cell_type": "code",
   "execution_count": 8,
   "metadata": {},
   "outputs": [],
   "source": [
    "df.columns = ['local', 'periodo', 'formais', 'AgriPecuFlorPescAqui', 'industria', 'construcao', 'AtacoVarejo', 'servicos']"
   ]
  },
  {
   "cell_type": "code",
   "execution_count": 9,
   "metadata": {
    "scrolled": true
   },
   "outputs": [
    {
     "data": {
      "text/html": [
       "<div>\n",
       "<style scoped>\n",
       "    .dataframe tbody tr th:only-of-type {\n",
       "        vertical-align: middle;\n",
       "    }\n",
       "\n",
       "    .dataframe tbody tr th {\n",
       "        vertical-align: top;\n",
       "    }\n",
       "\n",
       "    .dataframe thead th {\n",
       "        text-align: right;\n",
       "    }\n",
       "</style>\n",
       "<table border=\"1\" class=\"dataframe\">\n",
       "  <thead>\n",
       "    <tr style=\"text-align: right;\">\n",
       "      <th></th>\n",
       "      <th>local</th>\n",
       "      <th>periodo</th>\n",
       "      <th>formais</th>\n",
       "      <th>AgriPecuFlorPescAqui</th>\n",
       "      <th>industria</th>\n",
       "      <th>construcao</th>\n",
       "      <th>AtacoVarejo</th>\n",
       "      <th>servicos</th>\n",
       "    </tr>\n",
       "  </thead>\n",
       "  <tbody>\n",
       "    <tr>\n",
       "      <th>0</th>\n",
       "      <td>Caçapava</td>\n",
       "      <td>2013</td>\n",
       "      <td>22263</td>\n",
       "      <td>358</td>\n",
       "      <td>10119</td>\n",
       "      <td>889</td>\n",
       "      <td>3912</td>\n",
       "      <td>6985</td>\n",
       "    </tr>\n",
       "    <tr>\n",
       "      <th>1</th>\n",
       "      <td>Caçapava</td>\n",
       "      <td>2014</td>\n",
       "      <td>22628</td>\n",
       "      <td>322</td>\n",
       "      <td>10101</td>\n",
       "      <td>812</td>\n",
       "      <td>4050</td>\n",
       "      <td>7343</td>\n",
       "    </tr>\n",
       "    <tr>\n",
       "      <th>2</th>\n",
       "      <td>Caçapava</td>\n",
       "      <td>2015</td>\n",
       "      <td>22011</td>\n",
       "      <td>404</td>\n",
       "      <td>9187</td>\n",
       "      <td>748</td>\n",
       "      <td>4058</td>\n",
       "      <td>7614</td>\n",
       "    </tr>\n",
       "    <tr>\n",
       "      <th>3</th>\n",
       "      <td>Caçapava</td>\n",
       "      <td>2016</td>\n",
       "      <td>21149</td>\n",
       "      <td>358</td>\n",
       "      <td>8535</td>\n",
       "      <td>859</td>\n",
       "      <td>4108</td>\n",
       "      <td>7289</td>\n",
       "    </tr>\n",
       "    <tr>\n",
       "      <th>4</th>\n",
       "      <td>Caçapava</td>\n",
       "      <td>2017</td>\n",
       "      <td>21272</td>\n",
       "      <td>350</td>\n",
       "      <td>8193</td>\n",
       "      <td>830</td>\n",
       "      <td>4438</td>\n",
       "      <td>7461</td>\n",
       "    </tr>\n",
       "    <tr>\n",
       "      <th>5</th>\n",
       "      <td>Igaratá</td>\n",
       "      <td>2013</td>\n",
       "      <td>1532</td>\n",
       "      <td>118</td>\n",
       "      <td>298</td>\n",
       "      <td>209</td>\n",
       "      <td>270</td>\n",
       "      <td>637</td>\n",
       "    </tr>\n",
       "    <tr>\n",
       "      <th>6</th>\n",
       "      <td>Igaratá</td>\n",
       "      <td>2014</td>\n",
       "      <td>1522</td>\n",
       "      <td>84</td>\n",
       "      <td>350</td>\n",
       "      <td>139</td>\n",
       "      <td>285</td>\n",
       "      <td>664</td>\n",
       "    </tr>\n",
       "    <tr>\n",
       "      <th>7</th>\n",
       "      <td>Igaratá</td>\n",
       "      <td>2015</td>\n",
       "      <td>1687</td>\n",
       "      <td>118</td>\n",
       "      <td>350</td>\n",
       "      <td>161</td>\n",
       "      <td>331</td>\n",
       "      <td>727</td>\n",
       "    </tr>\n",
       "    <tr>\n",
       "      <th>8</th>\n",
       "      <td>Igaratá</td>\n",
       "      <td>2016</td>\n",
       "      <td>1560</td>\n",
       "      <td>130</td>\n",
       "      <td>328</td>\n",
       "      <td>95</td>\n",
       "      <td>329</td>\n",
       "      <td>678</td>\n",
       "    </tr>\n",
       "    <tr>\n",
       "      <th>9</th>\n",
       "      <td>Igaratá</td>\n",
       "      <td>2017</td>\n",
       "      <td>1646</td>\n",
       "      <td>130</td>\n",
       "      <td>380</td>\n",
       "      <td>69</td>\n",
       "      <td>344</td>\n",
       "      <td>723</td>\n",
       "    </tr>\n",
       "    <tr>\n",
       "      <th>10</th>\n",
       "      <td>Jacareí</td>\n",
       "      <td>2013</td>\n",
       "      <td>46627</td>\n",
       "      <td>626</td>\n",
       "      <td>14068</td>\n",
       "      <td>1712</td>\n",
       "      <td>9034</td>\n",
       "      <td>21187</td>\n",
       "    </tr>\n",
       "    <tr>\n",
       "      <th>11</th>\n",
       "      <td>Jacareí</td>\n",
       "      <td>2014</td>\n",
       "      <td>48473</td>\n",
       "      <td>593</td>\n",
       "      <td>14353</td>\n",
       "      <td>2089</td>\n",
       "      <td>9405</td>\n",
       "      <td>22033</td>\n",
       "    </tr>\n",
       "    <tr>\n",
       "      <th>12</th>\n",
       "      <td>Jacareí</td>\n",
       "      <td>2015</td>\n",
       "      <td>48896</td>\n",
       "      <td>1101</td>\n",
       "      <td>14128</td>\n",
       "      <td>2011</td>\n",
       "      <td>9323</td>\n",
       "      <td>22333</td>\n",
       "    </tr>\n",
       "    <tr>\n",
       "      <th>13</th>\n",
       "      <td>Jacareí</td>\n",
       "      <td>2016</td>\n",
       "      <td>48742</td>\n",
       "      <td>1125</td>\n",
       "      <td>14115</td>\n",
       "      <td>1640</td>\n",
       "      <td>9404</td>\n",
       "      <td>22458</td>\n",
       "    </tr>\n",
       "    <tr>\n",
       "      <th>14</th>\n",
       "      <td>Jacareí</td>\n",
       "      <td>2017</td>\n",
       "      <td>47934</td>\n",
       "      <td>509</td>\n",
       "      <td>13461</td>\n",
       "      <td>1197</td>\n",
       "      <td>9707</td>\n",
       "      <td>23060</td>\n",
       "    </tr>\n",
       "    <tr>\n",
       "      <th>15</th>\n",
       "      <td>Jambeiro</td>\n",
       "      <td>2013</td>\n",
       "      <td>3705</td>\n",
       "      <td>132</td>\n",
       "      <td>2629</td>\n",
       "      <td>88</td>\n",
       "      <td>162</td>\n",
       "      <td>694</td>\n",
       "    </tr>\n",
       "    <tr>\n",
       "      <th>16</th>\n",
       "      <td>Jambeiro</td>\n",
       "      <td>2014</td>\n",
       "      <td>3825</td>\n",
       "      <td>119</td>\n",
       "      <td>2375</td>\n",
       "      <td>612</td>\n",
       "      <td>80</td>\n",
       "      <td>639</td>\n",
       "    </tr>\n",
       "    <tr>\n",
       "      <th>17</th>\n",
       "      <td>Jambeiro</td>\n",
       "      <td>2015</td>\n",
       "      <td>2717</td>\n",
       "      <td>160</td>\n",
       "      <td>1568</td>\n",
       "      <td>273</td>\n",
       "      <td>139</td>\n",
       "      <td>577</td>\n",
       "    </tr>\n",
       "    <tr>\n",
       "      <th>18</th>\n",
       "      <td>Jambeiro</td>\n",
       "      <td>2016</td>\n",
       "      <td>2522</td>\n",
       "      <td>173</td>\n",
       "      <td>1445</td>\n",
       "      <td>217</td>\n",
       "      <td>65</td>\n",
       "      <td>622</td>\n",
       "    </tr>\n",
       "    <tr>\n",
       "      <th>19</th>\n",
       "      <td>Jambeiro</td>\n",
       "      <td>2017</td>\n",
       "      <td>2674</td>\n",
       "      <td>168</td>\n",
       "      <td>1571</td>\n",
       "      <td>167</td>\n",
       "      <td>76</td>\n",
       "      <td>692</td>\n",
       "    </tr>\n",
       "    <tr>\n",
       "      <th>20</th>\n",
       "      <td>Monteiro Lobato</td>\n",
       "      <td>2013</td>\n",
       "      <td>856</td>\n",
       "      <td>103</td>\n",
       "      <td>71</td>\n",
       "      <td>24</td>\n",
       "      <td>275</td>\n",
       "      <td>383</td>\n",
       "    </tr>\n",
       "    <tr>\n",
       "      <th>21</th>\n",
       "      <td>Monteiro Lobato</td>\n",
       "      <td>2014</td>\n",
       "      <td>1048</td>\n",
       "      <td>95</td>\n",
       "      <td>87</td>\n",
       "      <td>11</td>\n",
       "      <td>420</td>\n",
       "      <td>435</td>\n",
       "    </tr>\n",
       "    <tr>\n",
       "      <th>22</th>\n",
       "      <td>Monteiro Lobato</td>\n",
       "      <td>2015</td>\n",
       "      <td>676</td>\n",
       "      <td>108</td>\n",
       "      <td>76</td>\n",
       "      <td>13</td>\n",
       "      <td>109</td>\n",
       "      <td>370</td>\n",
       "    </tr>\n",
       "    <tr>\n",
       "      <th>23</th>\n",
       "      <td>Monteiro Lobato</td>\n",
       "      <td>2016</td>\n",
       "      <td>675</td>\n",
       "      <td>95</td>\n",
       "      <td>76</td>\n",
       "      <td>21</td>\n",
       "      <td>128</td>\n",
       "      <td>355</td>\n",
       "    </tr>\n",
       "    <tr>\n",
       "      <th>24</th>\n",
       "      <td>Monteiro Lobato</td>\n",
       "      <td>2017</td>\n",
       "      <td>664</td>\n",
       "      <td>80</td>\n",
       "      <td>70</td>\n",
       "      <td>8</td>\n",
       "      <td>141</td>\n",
       "      <td>365</td>\n",
       "    </tr>\n",
       "    <tr>\n",
       "      <th>25</th>\n",
       "      <td>Paraibuna</td>\n",
       "      <td>2013</td>\n",
       "      <td>2695</td>\n",
       "      <td>329</td>\n",
       "      <td>330</td>\n",
       "      <td>55</td>\n",
       "      <td>396</td>\n",
       "      <td>1585</td>\n",
       "    </tr>\n",
       "    <tr>\n",
       "      <th>26</th>\n",
       "      <td>Paraibuna</td>\n",
       "      <td>2014</td>\n",
       "      <td>2728</td>\n",
       "      <td>328</td>\n",
       "      <td>340</td>\n",
       "      <td>59</td>\n",
       "      <td>414</td>\n",
       "      <td>1587</td>\n",
       "    </tr>\n",
       "    <tr>\n",
       "      <th>27</th>\n",
       "      <td>Paraibuna</td>\n",
       "      <td>2015</td>\n",
       "      <td>3021</td>\n",
       "      <td>404</td>\n",
       "      <td>360</td>\n",
       "      <td>93</td>\n",
       "      <td>472</td>\n",
       "      <td>1692</td>\n",
       "    </tr>\n",
       "    <tr>\n",
       "      <th>28</th>\n",
       "      <td>Paraibuna</td>\n",
       "      <td>2016</td>\n",
       "      <td>2731</td>\n",
       "      <td>387</td>\n",
       "      <td>385</td>\n",
       "      <td>21</td>\n",
       "      <td>455</td>\n",
       "      <td>1483</td>\n",
       "    </tr>\n",
       "    <tr>\n",
       "      <th>29</th>\n",
       "      <td>Paraibuna</td>\n",
       "      <td>2017</td>\n",
       "      <td>2734</td>\n",
       "      <td>365</td>\n",
       "      <td>397</td>\n",
       "      <td>16</td>\n",
       "      <td>433</td>\n",
       "      <td>1523</td>\n",
       "    </tr>\n",
       "    <tr>\n",
       "      <th>30</th>\n",
       "      <td>Santa Branca</td>\n",
       "      <td>2013</td>\n",
       "      <td>3004</td>\n",
       "      <td>501</td>\n",
       "      <td>691</td>\n",
       "      <td>45</td>\n",
       "      <td>347</td>\n",
       "      <td>1420</td>\n",
       "    </tr>\n",
       "    <tr>\n",
       "      <th>31</th>\n",
       "      <td>Santa Branca</td>\n",
       "      <td>2014</td>\n",
       "      <td>2350</td>\n",
       "      <td>467</td>\n",
       "      <td>672</td>\n",
       "      <td>74</td>\n",
       "      <td>340</td>\n",
       "      <td>797</td>\n",
       "    </tr>\n",
       "    <tr>\n",
       "      <th>32</th>\n",
       "      <td>Santa Branca</td>\n",
       "      <td>2015</td>\n",
       "      <td>2528</td>\n",
       "      <td>429</td>\n",
       "      <td>609</td>\n",
       "      <td>65</td>\n",
       "      <td>379</td>\n",
       "      <td>1046</td>\n",
       "    </tr>\n",
       "    <tr>\n",
       "      <th>33</th>\n",
       "      <td>Santa Branca</td>\n",
       "      <td>2016</td>\n",
       "      <td>2147</td>\n",
       "      <td>307</td>\n",
       "      <td>459</td>\n",
       "      <td>73</td>\n",
       "      <td>376</td>\n",
       "      <td>932</td>\n",
       "    </tr>\n",
       "    <tr>\n",
       "      <th>34</th>\n",
       "      <td>Santa Branca</td>\n",
       "      <td>2017</td>\n",
       "      <td>4133</td>\n",
       "      <td>246</td>\n",
       "      <td>417</td>\n",
       "      <td>38</td>\n",
       "      <td>322</td>\n",
       "      <td>3110</td>\n",
       "    </tr>\n",
       "    <tr>\n",
       "      <th>35</th>\n",
       "      <td>São José dos Campos</td>\n",
       "      <td>2013</td>\n",
       "      <td>211462</td>\n",
       "      <td>782</td>\n",
       "      <td>44646</td>\n",
       "      <td>12972</td>\n",
       "      <td>40930</td>\n",
       "      <td>112132</td>\n",
       "    </tr>\n",
       "    <tr>\n",
       "      <th>36</th>\n",
       "      <td>São José dos Campos</td>\n",
       "      <td>2014</td>\n",
       "      <td>209777</td>\n",
       "      <td>782</td>\n",
       "      <td>41796</td>\n",
       "      <td>14158</td>\n",
       "      <td>40795</td>\n",
       "      <td>112246</td>\n",
       "    </tr>\n",
       "    <tr>\n",
       "      <th>37</th>\n",
       "      <td>São José dos Campos</td>\n",
       "      <td>2015</td>\n",
       "      <td>201142</td>\n",
       "      <td>674</td>\n",
       "      <td>39795</td>\n",
       "      <td>12654</td>\n",
       "      <td>39128</td>\n",
       "      <td>108891</td>\n",
       "    </tr>\n",
       "    <tr>\n",
       "      <th>38</th>\n",
       "      <td>São José dos Campos</td>\n",
       "      <td>2016</td>\n",
       "      <td>192181</td>\n",
       "      <td>644</td>\n",
       "      <td>36608</td>\n",
       "      <td>10326</td>\n",
       "      <td>38936</td>\n",
       "      <td>105667</td>\n",
       "    </tr>\n",
       "    <tr>\n",
       "      <th>39</th>\n",
       "      <td>São José dos Campos</td>\n",
       "      <td>2017</td>\n",
       "      <td>187441</td>\n",
       "      <td>526</td>\n",
       "      <td>36746</td>\n",
       "      <td>9002</td>\n",
       "      <td>38508</td>\n",
       "      <td>102659</td>\n",
       "    </tr>\n",
       "  </tbody>\n",
       "</table>\n",
       "</div>"
      ],
      "text/plain": [
       "                  local  periodo  formais  AgriPecuFlorPescAqui  industria  \\\n",
       "0              Caçapava     2013    22263                   358      10119   \n",
       "1              Caçapava     2014    22628                   322      10101   \n",
       "2              Caçapava     2015    22011                   404       9187   \n",
       "3              Caçapava     2016    21149                   358       8535   \n",
       "4              Caçapava     2017    21272                   350       8193   \n",
       "5               Igaratá     2013     1532                   118        298   \n",
       "6               Igaratá     2014     1522                    84        350   \n",
       "7               Igaratá     2015     1687                   118        350   \n",
       "8               Igaratá     2016     1560                   130        328   \n",
       "9               Igaratá     2017     1646                   130        380   \n",
       "10              Jacareí     2013    46627                   626      14068   \n",
       "11              Jacareí     2014    48473                   593      14353   \n",
       "12              Jacareí     2015    48896                  1101      14128   \n",
       "13              Jacareí     2016    48742                  1125      14115   \n",
       "14              Jacareí     2017    47934                   509      13461   \n",
       "15             Jambeiro     2013     3705                   132       2629   \n",
       "16             Jambeiro     2014     3825                   119       2375   \n",
       "17             Jambeiro     2015     2717                   160       1568   \n",
       "18             Jambeiro     2016     2522                   173       1445   \n",
       "19             Jambeiro     2017     2674                   168       1571   \n",
       "20      Monteiro Lobato     2013      856                   103         71   \n",
       "21      Monteiro Lobato     2014     1048                    95         87   \n",
       "22      Monteiro Lobato     2015      676                   108         76   \n",
       "23      Monteiro Lobato     2016      675                    95         76   \n",
       "24      Monteiro Lobato     2017      664                    80         70   \n",
       "25            Paraibuna     2013     2695                   329        330   \n",
       "26            Paraibuna     2014     2728                   328        340   \n",
       "27            Paraibuna     2015     3021                   404        360   \n",
       "28            Paraibuna     2016     2731                   387        385   \n",
       "29            Paraibuna     2017     2734                   365        397   \n",
       "30         Santa Branca     2013     3004                   501        691   \n",
       "31         Santa Branca     2014     2350                   467        672   \n",
       "32         Santa Branca     2015     2528                   429        609   \n",
       "33         Santa Branca     2016     2147                   307        459   \n",
       "34         Santa Branca     2017     4133                   246        417   \n",
       "35  São José dos Campos     2013   211462                   782      44646   \n",
       "36  São José dos Campos     2014   209777                   782      41796   \n",
       "37  São José dos Campos     2015   201142                   674      39795   \n",
       "38  São José dos Campos     2016   192181                   644      36608   \n",
       "39  São José dos Campos     2017   187441                   526      36746   \n",
       "\n",
       "    construcao  AtacoVarejo  servicos  \n",
       "0          889         3912      6985  \n",
       "1          812         4050      7343  \n",
       "2          748         4058      7614  \n",
       "3          859         4108      7289  \n",
       "4          830         4438      7461  \n",
       "5          209          270       637  \n",
       "6          139          285       664  \n",
       "7          161          331       727  \n",
       "8           95          329       678  \n",
       "9           69          344       723  \n",
       "10        1712         9034     21187  \n",
       "11        2089         9405     22033  \n",
       "12        2011         9323     22333  \n",
       "13        1640         9404     22458  \n",
       "14        1197         9707     23060  \n",
       "15          88          162       694  \n",
       "16         612           80       639  \n",
       "17         273          139       577  \n",
       "18         217           65       622  \n",
       "19         167           76       692  \n",
       "20          24          275       383  \n",
       "21          11          420       435  \n",
       "22          13          109       370  \n",
       "23          21          128       355  \n",
       "24           8          141       365  \n",
       "25          55          396      1585  \n",
       "26          59          414      1587  \n",
       "27          93          472      1692  \n",
       "28          21          455      1483  \n",
       "29          16          433      1523  \n",
       "30          45          347      1420  \n",
       "31          74          340       797  \n",
       "32          65          379      1046  \n",
       "33          73          376       932  \n",
       "34          38          322      3110  \n",
       "35       12972        40930    112132  \n",
       "36       14158        40795    112246  \n",
       "37       12654        39128    108891  \n",
       "38       10326        38936    105667  \n",
       "39        9002        38508    102659  "
      ]
     },
     "execution_count": 9,
     "metadata": {},
     "output_type": "execute_result"
    }
   ],
   "source": [
    "df"
   ]
  },
  {
   "cell_type": "markdown",
   "metadata": {},
   "source": [
    "# Flutuação de empregos de 2013 a 2017 para o Governo de SJC"
   ]
  },
  {
   "cell_type": "code",
   "execution_count": 10,
   "metadata": {},
   "outputs": [],
   "source": [
    "empregos2013 = df[df['periodo'] == 2013]\n",
    "empregos2014 = df[df['periodo'] == 2014]\n",
    "empregos2015 = df[df['periodo'] == 2015]\n",
    "empregos2016 = df[df['periodo'] == 2016]\n",
    "empregos2017 = df[df['periodo'] == 2017]"
   ]
  },
  {
   "cell_type": "code",
   "execution_count": 11,
   "metadata": {},
   "outputs": [],
   "source": [
    "totalEmpregos2013 = empregos2013['formais']\n",
    "totalEmpregos2014 = empregos2014['formais']\n",
    "totalEmpregos2015 = empregos2015['formais']\n",
    "totalEmpregos2016 = empregos2016['formais']\n",
    "totalEmpregos2017 = empregos2017['formais']"
   ]
  },
  {
   "cell_type": "code",
   "execution_count": 12,
   "metadata": {},
   "outputs": [
    {
     "name": "stdout",
     "output_type": "stream",
     "text": [
      "O total de empregos em 2013 é de:  292144 \n",
      "\n",
      "O total de empregos em 2014 é de:  292351 \n",
      "\n",
      "O total de empregos em 2015 é de:  282678 \n",
      "\n",
      "O total de empregos em 2016 é de:  271707 \n",
      "\n",
      "O total de empregos em 2017 é de:  268498 \n",
      "\n"
     ]
    }
   ],
   "source": [
    "print(\"O total de empregos em 2013 é de: \",totalEmpregos2013.sum(), \"\\n\")\n",
    "print(\"O total de empregos em 2014 é de: \",totalEmpregos2014.sum(), \"\\n\")\n",
    "print(\"O total de empregos em 2015 é de: \",totalEmpregos2015.sum(), \"\\n\")\n",
    "print(\"O total de empregos em 2016 é de: \",totalEmpregos2016.sum(), \"\\n\")\n",
    "print(\"O total de empregos em 2017 é de: \",totalEmpregos2017.sum(), \"\\n\")"
   ]
  },
  {
   "cell_type": "code",
   "execution_count": 13,
   "metadata": {},
   "outputs": [
    {
     "data": {
      "application/vnd.plotly.v1+json": {
       "config": {
        "linkText": "Export to plot.ly",
        "plotlyServerURL": "https://plot.ly",
        "showLink": true
       },
       "data": [
        {
         "type": "bar",
         "uid": "aa52a006-b349-448b-9934-d695d20f6376",
         "x": [
          "2013",
          "2014",
          "2015",
          "2016",
          "2017"
         ],
         "y": [
          292144,
          292351,
          282678,
          271707,
          268498
         ]
        }
       ],
       "layout": {}
      },
      "text/html": [
       "<div id=\"ac0525c3-e455-4e12-ae07-69c3119f8dcf\" style=\"height: 525px; width: 100%;\" class=\"plotly-graph-div\"></div><script type=\"text/javascript\">require([\"plotly\"], function(Plotly) { window.PLOTLYENV=window.PLOTLYENV || {};window.PLOTLYENV.BASE_URL=\"https://plot.ly\";Plotly.newPlot(\"ac0525c3-e455-4e12-ae07-69c3119f8dcf\", [{\"x\": [\"2013\", \"2014\", \"2015\", \"2016\", \"2017\"], \"y\": [292144, 292351, 282678, 271707, 268498], \"type\": \"bar\", \"uid\": \"30c27380-9799-4c78-acf5-9de7d6be5215\"}], {}, {\"showLink\": true, \"linkText\": \"Export to plot.ly\", \"plotlyServerURL\": \"https://plot.ly\"})});</script><script type=\"text/javascript\">window.addEventListener(\"resize\", function(){window._Plotly.Plots.resize(document.getElementById(\"ac0525c3-e455-4e12-ae07-69c3119f8dcf\"));});</script>"
      ],
      "text/vnd.plotly.v1+html": [
       "<div id=\"ac0525c3-e455-4e12-ae07-69c3119f8dcf\" style=\"height: 525px; width: 100%;\" class=\"plotly-graph-div\"></div><script type=\"text/javascript\">require([\"plotly\"], function(Plotly) { window.PLOTLYENV=window.PLOTLYENV || {};window.PLOTLYENV.BASE_URL=\"https://plot.ly\";Plotly.newPlot(\"ac0525c3-e455-4e12-ae07-69c3119f8dcf\", [{\"x\": [\"2013\", \"2014\", \"2015\", \"2016\", \"2017\"], \"y\": [292144, 292351, 282678, 271707, 268498], \"type\": \"bar\", \"uid\": \"30c27380-9799-4c78-acf5-9de7d6be5215\"}], {}, {\"showLink\": true, \"linkText\": \"Export to plot.ly\", \"plotlyServerURL\": \"https://plot.ly\"})});</script><script type=\"text/javascript\">window.addEventListener(\"resize\", function(){window._Plotly.Plots.resize(document.getElementById(\"ac0525c3-e455-4e12-ae07-69c3119f8dcf\"));});</script>"
      ]
     },
     "metadata": {},
     "output_type": "display_data"
    }
   ],
   "source": [
    "trace = go.Bar(x = ['2013', '2014', '2015', '2016', '2017'],\n",
    "               y = [totalEmpregos2013.sum(), totalEmpregos2014.sum(), totalEmpregos2015.sum(), totalEmpregos2016.sum(), totalEmpregos2017.sum()])\n",
    "data1 = [trace]\n",
    "py.iplot(data1)"
   ]
  },
  {
   "cell_type": "markdown",
   "metadata": {},
   "source": [
    "# Variação percentual ao longo dos anos do Governo de SJC"
   ]
  },
  {
   "cell_type": "code",
   "execution_count": 14,
   "metadata": {},
   "outputs": [
    {
     "name": "stdout",
     "output_type": "stream",
     "text": [
      "0.07 %\n",
      "-3.31 %\n",
      "-3.88 %\n",
      "-1.18 %\n"
     ]
    }
   ],
   "source": [
    "um = totalEmpregos2013.sum()\n",
    "dois = totalEmpregos2014.sum()\n",
    "tres = totalEmpregos2015.sum()\n",
    "quatro = totalEmpregos2016.sum()\n",
    "cinco = totalEmpregos2017.sum()\n",
    "primeiraVarPercent = (dois/um - 1)*100\n",
    "segundaVarPercent = (tres/dois - 1)*100\n",
    "terceiraVarPercent = (quatro/tres - 1)*100\n",
    "quartaVarPercent = (cinco/quatro -1)*100\n",
    "print(\"%.2f\" %primeiraVarPercent, \"%\")\n",
    "print(\"%.2f\" %segundaVarPercent, \"%\")\n",
    "print(\"%.2f\" %terceiraVarPercent, \"%\")\n",
    "print(\"%.2f\" %quartaVarPercent, \"%\")\n"
   ]
  },
  {
   "cell_type": "code",
   "execution_count": 15,
   "metadata": {},
   "outputs": [
    {
     "data": {
      "application/vnd.plotly.v1+json": {
       "config": {
        "linkText": "Export to plot.ly",
        "plotlyServerURL": "https://plot.ly",
        "showLink": true
       },
       "data": [
        {
         "type": "scatter",
         "uid": "45cfa92e-ecc0-4a3b-889d-b9e5e88f9886",
         "x": [
          "2013-2014",
          "2014-2015",
          "2015-2016",
          "2016-2017"
         ],
         "y": [
          0.0708554685360685,
          -3.3086940013887456,
          -3.881094390083417,
          -1.1810516475468047
         ]
        }
       ],
       "layout": {}
      },
      "text/html": [
       "<div id=\"177db324-9627-4837-a3c6-ecfd85eeb6f7\" style=\"height: 525px; width: 100%;\" class=\"plotly-graph-div\"></div><script type=\"text/javascript\">require([\"plotly\"], function(Plotly) { window.PLOTLYENV=window.PLOTLYENV || {};window.PLOTLYENV.BASE_URL=\"https://plot.ly\";Plotly.newPlot(\"177db324-9627-4837-a3c6-ecfd85eeb6f7\", [{\"x\": [\"2013-2014\", \"2014-2015\", \"2015-2016\", \"2016-2017\"], \"y\": [0.0708554685360685, -3.3086940013887456, -3.881094390083417, -1.1810516475468047], \"type\": \"scatter\", \"uid\": \"c27a7ec3-cf52-4d46-8b6c-2efbc9afe817\"}], {}, {\"showLink\": true, \"linkText\": \"Export to plot.ly\", \"plotlyServerURL\": \"https://plot.ly\"})});</script><script type=\"text/javascript\">window.addEventListener(\"resize\", function(){window._Plotly.Plots.resize(document.getElementById(\"177db324-9627-4837-a3c6-ecfd85eeb6f7\"));});</script>"
      ],
      "text/vnd.plotly.v1+html": [
       "<div id=\"177db324-9627-4837-a3c6-ecfd85eeb6f7\" style=\"height: 525px; width: 100%;\" class=\"plotly-graph-div\"></div><script type=\"text/javascript\">require([\"plotly\"], function(Plotly) { window.PLOTLYENV=window.PLOTLYENV || {};window.PLOTLYENV.BASE_URL=\"https://plot.ly\";Plotly.newPlot(\"177db324-9627-4837-a3c6-ecfd85eeb6f7\", [{\"x\": [\"2013-2014\", \"2014-2015\", \"2015-2016\", \"2016-2017\"], \"y\": [0.0708554685360685, -3.3086940013887456, -3.881094390083417, -1.1810516475468047], \"type\": \"scatter\", \"uid\": \"c27a7ec3-cf52-4d46-8b6c-2efbc9afe817\"}], {}, {\"showLink\": true, \"linkText\": \"Export to plot.ly\", \"plotlyServerURL\": \"https://plot.ly\"})});</script><script type=\"text/javascript\">window.addEventListener(\"resize\", function(){window._Plotly.Plots.resize(document.getElementById(\"177db324-9627-4837-a3c6-ecfd85eeb6f7\"));});</script>"
      ]
     },
     "metadata": {},
     "output_type": "display_data"
    }
   ],
   "source": [
    "trace = go.Scatter(x = ['2013-2014', '2014-2015', '2015-2016', '2016-2017'],\n",
    "               y = [primeiraVarPercent, segundaVarPercent, terceiraVarPercent, quartaVarPercent])\n",
    "data1 = [trace]\n",
    "py.iplot(data1)"
   ]
  },
  {
   "cell_type": "markdown",
   "metadata": {},
   "source": [
    "# Variação percentual dos empregos ao longo dos anos nos municípios"
   ]
  },
  {
   "cell_type": "code",
   "execution_count": 16,
   "metadata": {
    "scrolled": true
   },
   "outputs": [
    {
     "data": {
      "application/vnd.plotly.v1+json": {
       "config": {
        "linkText": "Export to plot.ly",
        "plotlyServerURL": "https://plot.ly",
        "showLink": true
       },
       "data": [
        {
         "name": "Total do governo",
         "type": "scatter",
         "uid": "47aa25f2-b2e8-499e-a169-2e0dc46a76f1",
         "x": [
          "2013-2014",
          "2014-2015",
          "2015-2016",
          "2016-2017"
         ],
         "y": [
          0.0708554685360685,
          -3.3086940013887456,
          -3.881094390083417,
          -1.1810516475468047
         ]
        },
        {
         "name": "Caçapava",
         "type": "scatter",
         "uid": "a01231db-079a-4dc0-8fcd-1d5ebd1483ff",
         "x": [
          "2013-2014",
          "2014-2015",
          "2015-2016",
          "2016-2017"
         ],
         "y": [
          "1.64",
          "-2.73",
          "-3.92",
          "0.58"
         ]
        },
        {
         "name": "Igarata",
         "type": "scatter",
         "uid": "9f56ed77-df93-4d6d-8137-36967fab6e6f",
         "x": [
          "2013-2014",
          "2014-2015",
          "2015-2016",
          "2016-2017"
         ],
         "y": [
          "-0.65",
          "10.84",
          "-7.53",
          "5.51"
         ]
        },
        {
         "name": "Jacareí",
         "type": "scatter",
         "uid": "37ef9daf-1eb1-47d8-a7d1-d09b6a3e88f4",
         "x": [
          "2013-2014",
          "2014-2015",
          "2015-2016",
          "2016-2017"
         ],
         "y": [
          "3.96",
          "0.87",
          "-0.31",
          "-1.66"
         ]
        },
        {
         "name": "Jambeiro",
         "type": "scatter",
         "uid": "dc0353db-2282-4761-a2b4-b6d1b99c29e8",
         "x": [
          "2013-2014",
          "2014-2015",
          "2015-2016",
          "2016-2017"
         ],
         "y": [
          "3.24",
          "-28.97",
          "-7.18",
          "6.03"
         ]
        },
        {
         "name": "Monteiro Lobato",
         "type": "scatter",
         "uid": "23083e02-bbbd-4384-a06f-52870ca9bbb5",
         "x": [
          "2013-2014",
          "2014-2015",
          "2015-2016",
          "2016-2017"
         ],
         "y": [
          "22.43",
          "-35.50",
          "-0.15",
          "-1.63"
         ]
        },
        {
         "name": "Paraibuna",
         "type": "scatter",
         "uid": "faee9788-7db8-4284-84a1-9a4370f0c84b",
         "x": [
          "2013-2014",
          "2014-2015",
          "2015-2016",
          "2016-2017"
         ],
         "y": [
          "1.22",
          "10.74",
          "-9.60",
          "0.11"
         ]
        },
        {
         "name": "Santa Branca",
         "type": "scatter",
         "uid": "b56531f0-984c-4630-8f17-74496610fe2b",
         "x": [
          "2013-2014",
          "2014-2015",
          "2015-2016",
          "2016-2017"
         ],
         "y": [
          "-21.77",
          "7.57",
          "-15.07",
          "92.50"
         ]
        },
        {
         "name": "São José dos Campos",
         "type": "scatter",
         "uid": "e8a699c6-2a0e-4865-8d7f-8220e25af348",
         "x": [
          "2013-2014",
          "2014-2015",
          "2015-2016",
          "2016-2017"
         ],
         "y": [
          "-0.80",
          "-4.12",
          "-4.46",
          "-2.47"
         ]
        }
       ],
       "layout": {}
      },
      "text/html": [
       "<div id=\"14984753-454f-4b50-9d6d-4ee80a91da4d\" style=\"height: 525px; width: 100%;\" class=\"plotly-graph-div\"></div><script type=\"text/javascript\">require([\"plotly\"], function(Plotly) { window.PLOTLYENV=window.PLOTLYENV || {};window.PLOTLYENV.BASE_URL=\"https://plot.ly\";Plotly.newPlot(\"14984753-454f-4b50-9d6d-4ee80a91da4d\", [{\"name\": \"Total do governo\", \"x\": [\"2013-2014\", \"2014-2015\", \"2015-2016\", \"2016-2017\"], \"y\": [0.0708554685360685, -3.3086940013887456, -3.881094390083417, -1.1810516475468047], \"type\": \"scatter\", \"uid\": \"47aa25f2-b2e8-499e-a169-2e0dc46a76f1\"}, {\"name\": \"Ca\\u00e7apava\", \"x\": [\"2013-2014\", \"2014-2015\", \"2015-2016\", \"2016-2017\"], \"y\": [\"1.64\", \"-2.73\", \"-3.92\", \"0.58\"], \"type\": \"scatter\", \"uid\": \"a01231db-079a-4dc0-8fcd-1d5ebd1483ff\"}, {\"name\": \"Igarata\", \"x\": [\"2013-2014\", \"2014-2015\", \"2015-2016\", \"2016-2017\"], \"y\": [\"-0.65\", \"10.84\", \"-7.53\", \"5.51\"], \"type\": \"scatter\", \"uid\": \"9f56ed77-df93-4d6d-8137-36967fab6e6f\"}, {\"name\": \"Jacare\\u00ed\", \"x\": [\"2013-2014\", \"2014-2015\", \"2015-2016\", \"2016-2017\"], \"y\": [\"3.96\", \"0.87\", \"-0.31\", \"-1.66\"], \"type\": \"scatter\", \"uid\": \"37ef9daf-1eb1-47d8-a7d1-d09b6a3e88f4\"}, {\"name\": \"Jambeiro\", \"x\": [\"2013-2014\", \"2014-2015\", \"2015-2016\", \"2016-2017\"], \"y\": [\"3.24\", \"-28.97\", \"-7.18\", \"6.03\"], \"type\": \"scatter\", \"uid\": \"dc0353db-2282-4761-a2b4-b6d1b99c29e8\"}, {\"name\": \"Monteiro Lobato\", \"x\": [\"2013-2014\", \"2014-2015\", \"2015-2016\", \"2016-2017\"], \"y\": [\"22.43\", \"-35.50\", \"-0.15\", \"-1.63\"], \"type\": \"scatter\", \"uid\": \"23083e02-bbbd-4384-a06f-52870ca9bbb5\"}, {\"name\": \"Paraibuna\", \"x\": [\"2013-2014\", \"2014-2015\", \"2015-2016\", \"2016-2017\"], \"y\": [\"1.22\", \"10.74\", \"-9.60\", \"0.11\"], \"type\": \"scatter\", \"uid\": \"faee9788-7db8-4284-84a1-9a4370f0c84b\"}, {\"name\": \"Santa Branca\", \"x\": [\"2013-2014\", \"2014-2015\", \"2015-2016\", \"2016-2017\"], \"y\": [\"-21.77\", \"7.57\", \"-15.07\", \"92.50\"], \"type\": \"scatter\", \"uid\": \"b56531f0-984c-4630-8f17-74496610fe2b\"}, {\"name\": \"S\\u00e3o Jos\\u00e9 dos Campos\", \"x\": [\"2013-2014\", \"2014-2015\", \"2015-2016\", \"2016-2017\"], \"y\": [\"-0.80\", \"-4.12\", \"-4.46\", \"-2.47\"], \"type\": \"scatter\", \"uid\": \"e8a699c6-2a0e-4865-8d7f-8220e25af348\"}], {}, {\"showLink\": true, \"linkText\": \"Export to plot.ly\", \"plotlyServerURL\": \"https://plot.ly\"})});</script><script type=\"text/javascript\">window.addEventListener(\"resize\", function(){window._Plotly.Plots.resize(document.getElementById(\"14984753-454f-4b50-9d6d-4ee80a91da4d\"));});</script>"
      ],
      "text/vnd.plotly.v1+html": [
       "<div id=\"14984753-454f-4b50-9d6d-4ee80a91da4d\" style=\"height: 525px; width: 100%;\" class=\"plotly-graph-div\"></div><script type=\"text/javascript\">require([\"plotly\"], function(Plotly) { window.PLOTLYENV=window.PLOTLYENV || {};window.PLOTLYENV.BASE_URL=\"https://plot.ly\";Plotly.newPlot(\"14984753-454f-4b50-9d6d-4ee80a91da4d\", [{\"name\": \"Total do governo\", \"x\": [\"2013-2014\", \"2014-2015\", \"2015-2016\", \"2016-2017\"], \"y\": [0.0708554685360685, -3.3086940013887456, -3.881094390083417, -1.1810516475468047], \"type\": \"scatter\", \"uid\": \"47aa25f2-b2e8-499e-a169-2e0dc46a76f1\"}, {\"name\": \"Ca\\u00e7apava\", \"x\": [\"2013-2014\", \"2014-2015\", \"2015-2016\", \"2016-2017\"], \"y\": [\"1.64\", \"-2.73\", \"-3.92\", \"0.58\"], \"type\": \"scatter\", \"uid\": \"a01231db-079a-4dc0-8fcd-1d5ebd1483ff\"}, {\"name\": \"Igarata\", \"x\": [\"2013-2014\", \"2014-2015\", \"2015-2016\", \"2016-2017\"], \"y\": [\"-0.65\", \"10.84\", \"-7.53\", \"5.51\"], \"type\": \"scatter\", \"uid\": \"9f56ed77-df93-4d6d-8137-36967fab6e6f\"}, {\"name\": \"Jacare\\u00ed\", \"x\": [\"2013-2014\", \"2014-2015\", \"2015-2016\", \"2016-2017\"], \"y\": [\"3.96\", \"0.87\", \"-0.31\", \"-1.66\"], \"type\": \"scatter\", \"uid\": \"37ef9daf-1eb1-47d8-a7d1-d09b6a3e88f4\"}, {\"name\": \"Jambeiro\", \"x\": [\"2013-2014\", \"2014-2015\", \"2015-2016\", \"2016-2017\"], \"y\": [\"3.24\", \"-28.97\", \"-7.18\", \"6.03\"], \"type\": \"scatter\", \"uid\": \"dc0353db-2282-4761-a2b4-b6d1b99c29e8\"}, {\"name\": \"Monteiro Lobato\", \"x\": [\"2013-2014\", \"2014-2015\", \"2015-2016\", \"2016-2017\"], \"y\": [\"22.43\", \"-35.50\", \"-0.15\", \"-1.63\"], \"type\": \"scatter\", \"uid\": \"23083e02-bbbd-4384-a06f-52870ca9bbb5\"}, {\"name\": \"Paraibuna\", \"x\": [\"2013-2014\", \"2014-2015\", \"2015-2016\", \"2016-2017\"], \"y\": [\"1.22\", \"10.74\", \"-9.60\", \"0.11\"], \"type\": \"scatter\", \"uid\": \"faee9788-7db8-4284-84a1-9a4370f0c84b\"}, {\"name\": \"Santa Branca\", \"x\": [\"2013-2014\", \"2014-2015\", \"2015-2016\", \"2016-2017\"], \"y\": [\"-21.77\", \"7.57\", \"-15.07\", \"92.50\"], \"type\": \"scatter\", \"uid\": \"b56531f0-984c-4630-8f17-74496610fe2b\"}, {\"name\": \"S\\u00e3o Jos\\u00e9 dos Campos\", \"x\": [\"2013-2014\", \"2014-2015\", \"2015-2016\", \"2016-2017\"], \"y\": [\"-0.80\", \"-4.12\", \"-4.46\", \"-2.47\"], \"type\": \"scatter\", \"uid\": \"e8a699c6-2a0e-4865-8d7f-8220e25af348\"}], {}, {\"showLink\": true, \"linkText\": \"Export to plot.ly\", \"plotlyServerURL\": \"https://plot.ly\"})});</script><script type=\"text/javascript\">window.addEventListener(\"resize\", function(){window._Plotly.Plots.resize(document.getElementById(\"14984753-454f-4b50-9d6d-4ee80a91da4d\"));});</script>"
      ]
     },
     "metadata": {},
     "output_type": "display_data"
    }
   ],
   "source": [
    "\n",
    "def returnMunicipio(municipio):\n",
    "    municipios = []\n",
    "    totalEmpregos2013 = df[df['periodo'] == 2013]\n",
    "    totalEmpregos2014 = df[df['periodo'] == 2014]\n",
    "    totalEmpregos2015 = df[df['periodo'] == 2015]\n",
    "    totalEmpregos2016 = df[df['periodo'] == 2016]\n",
    "    totalEmpregos2017 = df[df['periodo'] == 2017]\n",
    "    municipio2013 = (totalEmpregos2013[df['local'] == municipio])['formais']\n",
    "    municipio2014 = (totalEmpregos2014[df['local'] == municipio])['formais']\n",
    "    municipio2015 = (totalEmpregos2015[df['local'] == municipio])['formais']\n",
    "    municipio2016 = (totalEmpregos2016[df['local'] == municipio])['formais']\n",
    "    municipio2017 = (totalEmpregos2017[df['local'] == municipio])['formais']\n",
    "    municipios.extend([municipio2013.sum(), municipio2014.sum(),municipio2015.sum(),municipio2016.sum(),municipio2017.sum()])\n",
    "    \n",
    "    return municipios\n",
    "\n",
    "\n",
    "cacapava = returnMunicipio(\"Caçapava\")\n",
    "igarata = returnMunicipio(\"Igaratá\")\n",
    "jacarei = returnMunicipio(\"Jacareí\")\n",
    "jambeiro = returnMunicipio(\"Jambeiro\")\n",
    "monteiro = returnMunicipio(\"Monteiro Lobato\")\n",
    "paraibuna = returnMunicipio(\"Paraibuna\")\n",
    "santabranca = returnMunicipio(\"Santa Branca\")\n",
    "sjc = returnMunicipio(\"São José dos Campos\")\n",
    "\n",
    "\n",
    "def returnPercent(um, dois, tres, quatro, cinco):\n",
    "    \n",
    "#um = a[0] #cacapava2013.sum()\n",
    "#dois = a[1] #cacapava2014.sum()\n",
    "#tres = a[2]  #cacapava2015.sum()\n",
    "#quatro = a[3]  #cacapava2016.sum()\n",
    "#cinco = a[4]  #cacapava2017.sum()\n",
    "    percents = []\n",
    "    umunicipioVarPercent = (dois/um - 1)*100\n",
    "    dmunicipioVarPercent = (tres/dois - 1)*100\n",
    "    tmunicipioVarPercent = (quatro/tres - 1)*100\n",
    "    qmunicipioVarPercent = (cinco/quatro -1)*100\n",
    "    #print(\"%.2f\" %ucacapavaVarPercent, \"%\")\n",
    "    #print(\"%.2f\" %dcacapavaVarPercent, \"%\")\n",
    "    #print(\"%.2f\" %tcacapavaVarPercent, \"%\")\n",
    "    #print(\"%.2f\" %qcacapavaVarPercent, \"%\")\n",
    "    percents.extend([(\"%.2f\" %umunicipioVarPercent), (\"%.2f\" %dmunicipioVarPercent), (\"%.2f\" %tmunicipioVarPercent), (\"%.2f\" %qmunicipioVarPercent)])\n",
    "    return percents\n",
    "\n",
    "percentCacapava = returnPercent(cacapava[0], cacapava[1], cacapava[2], cacapava[3], cacapava[4])\n",
    "percentIgarata = returnPercent(igarata[0], igarata[1], igarata[2], igarata[3], igarata[4])\n",
    "percentJacarei = returnPercent(jacarei[0], jacarei[1], jacarei[2], jacarei[3], jacarei[4])\n",
    "percentJambeiro = returnPercent(jambeiro[0], jambeiro[1], jambeiro[2], jambeiro[3], jambeiro[4])\n",
    "percentMonteiro = returnPercent(monteiro[0], monteiro[1], monteiro[2], monteiro[3], monteiro[4])\n",
    "percentParaibuna = returnPercent(paraibuna[0], paraibuna[1], paraibuna[2], paraibuna[3], paraibuna[4])\n",
    "percentSantaBranca = returnPercent(santabranca[0], santabranca[1], santabranca[2], santabranca[3], santabranca[4])\n",
    "percentSjc = returnPercent(sjc[0], sjc[1], sjc[2], sjc[3], sjc[4])\n",
    "\n",
    "#print(percentSantaBranca)\n",
    "\n",
    "Total_governo = go.Scatter(x = ['2013-2014', '2014-2015', '2015-2016', '2016-2017'],\n",
    "               y = [primeiraVarPercent, segundaVarPercent, terceiraVarPercent, quartaVarPercent],\n",
    "               name=\"Total do governo\"                         \n",
    "                          )\n",
    "\n",
    "Cacapava = go.Scatter(x = ['2013-2014', '2014-2015', '2015-2016', '2016-2017'],\n",
    "               y = [percentCacapava[0], percentCacapava[1], percentCacapava[2], percentCacapava[3]],\n",
    "               name=\"Caçapava\"        \n",
    "                     )\n",
    "Igarata = go.Scatter(x = ['2013-2014', '2014-2015', '2015-2016', '2016-2017'],\n",
    "               y = [percentIgarata[0], percentIgarata[1], percentIgarata[2], percentIgarata[3]],\n",
    "               name=\"Igarata\"        \n",
    "                     )\n",
    "Jacarei = go.Scatter(x = ['2013-2014', '2014-2015', '2015-2016', '2016-2017'],\n",
    "               y = [percentJacarei[0], percentJacarei[1], percentJacarei[2], percentJacarei[3]],\n",
    "               name=\"Jacareí\"        \n",
    "                     )\n",
    "Jambeiro = go.Scatter(x = ['2013-2014', '2014-2015', '2015-2016', '2016-2017'],\n",
    "               y = [percentJambeiro[0], percentJambeiro[1], percentJambeiro[2], percentJambeiro[3]],\n",
    "               name=\"Jambeiro\"        \n",
    "                     )\n",
    "Monteiro = go.Scatter(x = ['2013-2014', '2014-2015', '2015-2016', '2016-2017'],\n",
    "               y = [percentMonteiro[0], percentMonteiro[1], percentMonteiro[2], percentMonteiro[3]],\n",
    "               name=\"Monteiro Lobato\"        \n",
    "                     )\n",
    "Paraibuna = go.Scatter(x = ['2013-2014', '2014-2015', '2015-2016', '2016-2017'],\n",
    "               y = [percentParaibuna[0], percentParaibuna[1], percentParaibuna[2], percentParaibuna[3]],\n",
    "               name=\"Paraibuna\"        \n",
    "                     )\n",
    "SantaBranca = go.Scatter(x = ['2013-2014', '2014-2015', '2015-2016', '2016-2017'],\n",
    "               y = [percentSantaBranca[0], percentSantaBranca[1], percentSantaBranca[2], percentSantaBranca[3]],\n",
    "               name=\"Santa Branca\"        \n",
    "                     )\n",
    "Sjc = go.Scatter(x = ['2013-2014', '2014-2015', '2015-2016', '2016-2017'],\n",
    "               y = [percentSjc[0], percentSjc[1], percentSjc[2], percentSjc[3]],\n",
    "               name=\"São José dos Campos\"        \n",
    "                     )\n",
    "data1 = [Total_governo, Cacapava, Igarata, Jacarei, Jambeiro, Monteiro, Paraibuna, SantaBranca, Sjc]\n",
    "layout = go.Layout(\n",
    "    xaxis=dict(\n",
    "        tickmode='linear',\n",
    "        ticks='outside',\n",
    "        tick0=0,\n",
    "        dtick=0.25,\n",
    "        ticklen=8,\n",
    "        tickwidth=4,\n",
    "        tickcolor='#000'\n",
    "    ),\n",
    "    yaxis=dict(\n",
    "        tickmode='linear',\n",
    "        ticks='outside',\n",
    "        tick0=0,\n",
    "        dtick=0.25,\n",
    "        ticklen=8,\n",
    "        tickwidth=4,\n",
    "        tickcolor='#000'\n",
    "    )\n",
    ")\n",
    "fig = go.Figure(data=data1)\n",
    "py.iplot(fig)"
   ]
  },
  {
   "cell_type": "code",
   "execution_count": null,
   "metadata": {},
   "outputs": [],
   "source": []
  },
  {
   "cell_type": "code",
   "execution_count": null,
   "metadata": {},
   "outputs": [],
   "source": []
  }
 ],
 "metadata": {
  "kernelspec": {
   "display_name": "Python 3",
   "language": "python",
   "name": "python3"
  },
  "language_info": {
   "codemirror_mode": {
    "name": "ipython",
    "version": 3
   },
   "file_extension": ".py",
   "mimetype": "text/x-python",
   "name": "python",
   "nbconvert_exporter": "python",
   "pygments_lexer": "ipython3",
   "version": "3.7.1"
  }
 },
 "nbformat": 4,
 "nbformat_minor": 2
}
